{
 "cells": [
  {
   "cell_type": "code",
   "execution_count": 1,
   "id": "64252266",
   "metadata": {},
   "outputs": [],
   "source": [
    "#Sprint 2 Enric Sena Alvarez \n",
    "\n",
    "#Exercici 1"
   ]
  },
  {
   "cell_type": "code",
   "execution_count": 6,
   "id": "a54e5319",
   "metadata": {},
   "outputs": [],
   "source": [
    "T1 = [\"Gener\",\"Febrer\",\"Març\"]\n",
    "T2 = [\"Abril\",\"Maig\",\"Juny\"]\n",
    "T3 = [\"Juliol\",\"Agost\",\"Setembre\"]\n",
    "T4 = [\"Octubre\",\"Novembre\",\"Decembre\"]"
   ]
  },
  {
   "cell_type": "code",
   "execution_count": 7,
   "id": "1304c58e",
   "metadata": {},
   "outputs": [],
   "source": [
    "any = [T1,T2,T3,T4]"
   ]
  },
  {
   "cell_type": "code",
   "execution_count": 33,
   "id": "2cf08f36",
   "metadata": {},
   "outputs": [
    {
     "data": {
      "text/plain": [
       "'Octubre'"
      ]
     },
     "execution_count": 33,
     "metadata": {},
     "output_type": "execute_result"
    }
   ],
   "source": [
    "#Exercici 2\n",
    "\n",
    "#2n mes del primer trimestre\n",
    "a=any[0]\n",
    "a[1]\n",
    "\n",
    "#mesos del 1r trimestre\n",
    "any[0]\n",
    "\n",
    "#Setembre i octubre\n",
    "b=any[3]\n",
    "c=any[2]\n",
    "c[2]\n",
    "b[0]"
   ]
  },
  {
   "cell_type": "code",
   "execution_count": 75,
   "id": "bfdb30e9",
   "metadata": {},
   "outputs": [
    {
     "name": "stdout",
     "output_type": "stream",
     "text": [
      "[8, 4, 0, 19, 1, 17, 20, 9, 3, 14, 23, 22, 11, 21, 2, 15, 13, 6, 10, 18]\n"
     ]
    }
   ],
   "source": [
    "#Exercici 3\n",
    "import random\n",
    "randomlist = random.sample(range(0, 25), 20)\n",
    "print(randomlist)"
   ]
  },
  {
   "cell_type": "code",
   "execution_count": 76,
   "id": "80afc17a",
   "metadata": {},
   "outputs": [
    {
     "data": {
      "text/plain": [
       "20"
      ]
     },
     "execution_count": 76,
     "metadata": {},
     "output_type": "execute_result"
    }
   ],
   "source": [
    "#numeros a la llista.\n",
    "len(randomlist)"
   ]
  },
  {
   "cell_type": "code",
   "execution_count": 77,
   "id": "9f5516cf",
   "metadata": {},
   "outputs": [
    {
     "data": {
      "text/plain": [
       "1"
      ]
     },
     "execution_count": 77,
     "metadata": {},
     "output_type": "execute_result"
    }
   ],
   "source": [
    "#vegades apareix el 3.\n",
    "existeix_3 = randomlist.count(3)\n",
    "existeix_3"
   ]
  },
  {
   "cell_type": "code",
   "execution_count": 78,
   "id": "e67e4a95",
   "metadata": {},
   "outputs": [
    {
     "name": "stdout",
     "output_type": "stream",
     "text": [
      "2\n"
     ]
    }
   ],
   "source": [
    "#Vegades que apareix el 3 i el 4\n",
    "cont=0\n",
    "for i in randomlist:\n",
    "    if i ==3:\n",
    "        cont=cont+1\n",
    "    if i ==4:\n",
    "        cont=cont+1\n",
    "print(cont)"
   ]
  },
  {
   "cell_type": "code",
   "execution_count": 80,
   "id": "aabd3c4e",
   "metadata": {},
   "outputs": [
    {
     "data": {
      "text/plain": [
       "23"
      ]
     },
     "execution_count": 80,
     "metadata": {},
     "output_type": "execute_result"
    }
   ],
   "source": [
    "#nombre més gran\n",
    "max(randomlist)"
   ]
  },
  {
   "cell_type": "code",
   "execution_count": 86,
   "id": "c2296b7c",
   "metadata": {},
   "outputs": [
    {
     "data": {
      "text/plain": [
       "[0, 1, 2]"
      ]
     },
     "execution_count": 86,
     "metadata": {},
     "output_type": "execute_result"
    }
   ],
   "source": [
    "#Els 3 nombres més petits\n",
    "ordre=sorted(randomlist)\n",
    "ordre[0:3]"
   ]
  },
  {
   "cell_type": "code",
   "execution_count": null,
   "id": "6b5911bc",
   "metadata": {},
   "outputs": [],
   "source": []
  },
  {
   "cell_type": "code",
   "execution_count": 87,
   "id": "65fc0759",
   "metadata": {},
   "outputs": [
    {
     "ename": "TypeError",
     "evalue": "'list' object cannot be interpreted as an integer",
     "output_type": "error",
     "traceback": [
      "\u001b[1;31m---------------------------------------------------------------------------\u001b[0m",
      "\u001b[1;31mTypeError\u001b[0m                                 Traceback (most recent call last)",
      "\u001b[1;32m<ipython-input-87-9ae2475c583c>\u001b[0m in \u001b[0;36m<module>\u001b[1;34m\u001b[0m\n\u001b[1;32m----> 1\u001b[1;33m \u001b[0mrange\u001b[0m\u001b[1;33m(\u001b[0m\u001b[0mrandomlist\u001b[0m\u001b[1;33m)\u001b[0m\u001b[1;33m\u001b[0m\u001b[1;33m\u001b[0m\u001b[0m\n\u001b[0m",
      "\u001b[1;31mTypeError\u001b[0m: 'list' object cannot be interpreted as an integer"
     ]
    }
   ],
   "source": [
    "#El rang és de 0 a 25"
   ]
  },
  {
   "cell_type": "code",
   "execution_count": null,
   "id": "948cd6b6",
   "metadata": {},
   "outputs": [],
   "source": [
    "#Exercici 4"
   ]
  },
  {
   "cell_type": "code",
   "execution_count": 88,
   "id": "681f9dcc",
   "metadata": {},
   "outputs": [],
   "source": [
    "compra={\"Pomes\":{\"Qty\":5,\"€\":0.42},\"Peres\":{\"Qty\":3,\"€\":0.66}}"
   ]
  },
  {
   "cell_type": "code",
   "execution_count": 92,
   "id": "80cc6159",
   "metadata": {},
   "outputs": [
    {
     "data": {
      "text/plain": [
       "{'Pomes': {'Qty': 5, '€': 0.42},\n",
       " 'Peres': {'Qty': 3, '€': 0.66},\n",
       " 'Platans': {'Qty': 4, '€': 0.58}}"
      ]
     },
     "execution_count": 92,
     "metadata": {},
     "output_type": "execute_result"
    }
   ],
   "source": [
    "#Afegeixo una fruita més\n",
    "\n",
    "compra[\"Platans\"]={'Qty': 4, '€': 0.58}\n",
    "compra"
   ]
  },
  {
   "cell_type": "code",
   "execution_count": 95,
   "id": "bddfe134",
   "metadata": {},
   "outputs": [
    {
     "name": "stdout",
     "output_type": "stream",
     "text": [
      "0.08399999999999999\n",
      "0.22\n",
      "0.145\n"
     ]
    }
   ],
   "source": [
    "#Les peres han costat 66 cèntims\n",
    "#Hem comprat 12 peçes de fruita.\n",
    "#La fruita més cara és:\n",
    "print(0.42/5)\n",
    "print(0.66/3)\n",
    "print(0.58/4)\n",
    "#les peres són les més cares"
   ]
  },
  {
   "cell_type": "code",
   "execution_count": null,
   "id": "1a630d7d",
   "metadata": {},
   "outputs": [],
   "source": []
  },
  {
   "cell_type": "code",
   "execution_count": null,
   "id": "30df5dff",
   "metadata": {},
   "outputs": [],
   "source": []
  }
 ],
 "metadata": {
  "kernelspec": {
   "display_name": "Python 3",
   "language": "python",
   "name": "python3"
  },
  "language_info": {
   "codemirror_mode": {
    "name": "ipython",
    "version": 3
   },
   "file_extension": ".py",
   "mimetype": "text/x-python",
   "name": "python",
   "nbconvert_exporter": "python",
   "pygments_lexer": "ipython3",
   "version": "3.8.8"
  }
 },
 "nbformat": 4,
 "nbformat_minor": 5
}
